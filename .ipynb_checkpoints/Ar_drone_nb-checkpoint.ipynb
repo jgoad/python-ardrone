{
 "cells": [
  {
   "cell_type": "code",
   "execution_count": 1,
   "metadata": {
    "collapsed": false
   },
   "outputs": [
    {
     "name": "stderr",
     "output_type": "stream",
     "text": [
      ":0: FutureWarning: IPython widgets are experimental and may change in the future.\n",
      "WARNING:root:Connection to ardrone\n",
      "WARNING:root:Connection established\n"
     ]
    }
   ],
   "source": [
    "from libardrone import libardrone\n",
    "from IPython.display import Image as dispImage, display\n",
    "from IPython.html.widgets import Image as ImageWidget, HTML\n",
    "from copy import copy\n",
    "import time\n",
    "drone = libardrone.ARDrone(is_ar_drone_2 = True)"
   ]
  },
  {
   "cell_type": "code",
   "execution_count": 2,
   "metadata": {
    "collapsed": true
   },
   "outputs": [],
   "source": [
    "# import numpy\n",
    "# from PIL import Image\n",
    "# from IPython.display import Image as dispImage, display\n",
    "# from IPython.html.widgets import Image as ImageWidget, HTML\n",
    "# import json\n",
    "# import StringIO\n",
    "# from copy import copy\n",
    "# ip = get_ipython()\n",
    "\n",
    "# def capture(drone,name):\n",
    "#     with open('/Users/jgoad-admin/Desktop/'+name+'.jpeg','wb') as f:\n",
    "#         image_buffer = drone2JPEG(drone)\n",
    "#         f.write(image_buffer)\n",
    "\n",
    "# def array2PIL(arr, size):\n",
    "#     mode = 'RGBA'\n",
    "#     arr = arr.reshape(arr.shape[0]*arr.shape[1], arr.shape[2])\n",
    "#     if len(arr[0]) == 3:\n",
    "#         arr = numpy.c_[arr, numpy.ones((len(arr),1), numpy.uint8)]\n",
    "#     return Image.frombuffer(mode, size, arr.tostring(), 'raw', mode, 0, 1)\n",
    "\n",
    "\n",
    "# def drone2JPEG(drone):\n",
    "#     data = drone.get_image()\n",
    "#     output = StringIO.StringIO()\n",
    "#     image = array2PIL(data,(data.shape[1],data.shape[0]))\n",
    "#     image.save(output,'jpeg')\n",
    "#     contents = output.getvalue()\n",
    "#     output.close()\n",
    "#     return contents\n",
    "\n",
    "# image_wid = ImageWidget()\n",
    "# telem = HTML()\n",
    "# display(image_wid , telem)\n",
    "# image_buffer = None\n",
    "\n",
    "# run_video = True\n",
    "\n",
    "# telem_data = copy(drone.navdata)\n",
    "# del telem_data[16] \n",
    "# del telem_data[65535]\n",
    "\n",
    "# psi0 = drone.navdata[0]['psi']\n",
    "\n",
    "\n",
    "# while run_video:\n",
    "#     telem_data = copy(drone.navdata)\n",
    "#     del telem_data[16] \n",
    "#     del telem_data[65535]\n",
    "#     telem.value = '<pre>{0} {1} {2} {3}</pre>'.format(psi0,telem_data[0]['psi'],abs(telem_data[0]['psi']-psi0),type(abs(telem_data[0]['psi']-psi0)))\n",
    "#     image_buffer = drone2JPEG(drone) # \"Izza 'jpeg'\"\n",
    "#     image_wid.value = image_buffer\n",
    "    \n",
    "#     ip.kernel.do_one_iteration()"
   ]
  },
  {
   "cell_type": "code",
   "execution_count": null,
   "metadata": {
    "collapsed": false
   },
   "outputs": [],
   "source": [
    "time.sleep(3)\n",
    "drone.takeoff()\n",
    "time.sleep(5)\n",
    "\n",
    "drone.speed = 0.2\n",
    "drone.move_forward()\n",
    "time.sleep(1)\n",
    "\n",
    "drone.hover()\n",
    "time.sleep(2)\n",
    "\n",
    "drone.speed = 1\n",
    "drone.turn_angle(180)\n",
    "\n",
    "drone.hover()\n",
    "time.sleep(2)\n",
    "\n",
    "drone.speed = 0.2\n",
    "drone.move_forward()\n",
    "time.sleep(1)\n",
    "\n",
    "drone.hover()\n",
    "time.sleep(2)\n",
    "\n",
    "drone.land()\n",
    "drone.halt()\n",
    "drone = libardrone.ARDrone(is_ar_drone_2 = True)"
   ]
  },
  {
   "cell_type": "code",
   "execution_count": 4,
   "metadata": {
    "collapsed": false
   },
   "outputs": [
    {
     "data": {
      "text/plain": [
       "0"
      ]
     },
     "execution_count": 4,
     "metadata": {},
     "output_type": "execute_result"
    }
   ],
   "source": [
    "drone.navdata[0]['psi']"
   ]
  },
  {
   "cell_type": "code",
   "execution_count": 3,
   "metadata": {
    "collapsed": true
   },
   "outputs": [],
   "source": [
    "drone.land()"
   ]
  },
  {
   "cell_type": "code",
   "execution_count": 5,
   "metadata": {
    "collapsed": false
   },
   "outputs": [],
   "source": [
    "drone.reset()"
   ]
  },
  {
   "cell_type": "code",
   "execution_count": 6,
   "metadata": {
    "collapsed": false
   },
   "outputs": [
    {
     "name": "stderr",
     "output_type": "stream",
     "text": [
      "WARNING:root:Disconnection to ardrone streams\n"
     ]
    }
   ],
   "source": [
    "drone.halt()"
   ]
  },
  {
   "cell_type": "code",
   "execution_count": 7,
   "metadata": {
    "collapsed": false
   },
   "outputs": [
    {
     "data": {
      "text/plain": [
       "{'altitude': 0,\n",
       " 'battery': 0,\n",
       " 'ctrl_state': 0,\n",
       " 'num_frames': 0,\n",
       " 'phi': 0,\n",
       " 'psi': 0,\n",
       " 'theta': 0,\n",
       " 'vx': 0,\n",
       " 'vy': 0,\n",
       " 'vz': 0}"
      ]
     },
     "execution_count": 7,
     "metadata": {},
     "output_type": "execute_result"
    }
   ],
   "source": [
    "drone.navdata[0]"
   ]
  },
  {
   "cell_type": "code",
   "execution_count": 12,
   "metadata": {
    "collapsed": false
   },
   "outputs": [
    {
     "ename": "KeyboardInterrupt",
     "evalue": "",
     "output_type": "error",
     "traceback": [
      "\u001b[0;31m---------------------------------------------------------------------------\u001b[0m",
      "\u001b[0;31mKeyboardInterrupt\u001b[0m                         Traceback (most recent call last)",
      "\u001b[0;32m<ipython-input-12-470439503630>\u001b[0m in \u001b[0;36m<module>\u001b[0;34m()\u001b[0m\n\u001b[1;32m      3\u001b[0m \u001b[0mpsi0\u001b[0m \u001b[0;34m=\u001b[0m \u001b[0mdrone\u001b[0m\u001b[0;34m.\u001b[0m\u001b[0mnavdata\u001b[0m\u001b[0;34m[\u001b[0m\u001b[0;36m0\u001b[0m\u001b[0;34m]\u001b[0m\u001b[0;34m[\u001b[0m\u001b[0;34m'psi'\u001b[0m\u001b[0;34m]\u001b[0m\u001b[0;34m\u001b[0m\u001b[0m\n\u001b[1;32m      4\u001b[0m \u001b[0;32mwhile\u001b[0m \u001b[0mTrue\u001b[0m\u001b[0;34m:\u001b[0m\u001b[0;34m\u001b[0m\u001b[0m\n\u001b[0;32m----> 5\u001b[0;31m     \u001b[0mtime\u001b[0m\u001b[0;34m.\u001b[0m\u001b[0msleep\u001b[0m\u001b[0;34m(\u001b[0m\u001b[0;36m0.1\u001b[0m\u001b[0;34m)\u001b[0m\u001b[0;34m\u001b[0m\u001b[0m\n\u001b[0m\u001b[1;32m      6\u001b[0m     \u001b[0mtelem\u001b[0m\u001b[0;34m.\u001b[0m\u001b[0mvalue\u001b[0m \u001b[0;34m=\u001b[0m \u001b[0;34m'<pre> |psi-psi0| = {0} psi = {1} psi0 = {2} clock: {3}</pre>'\u001b[0m\u001b[0;34m.\u001b[0m\u001b[0mformat\u001b[0m\u001b[0;34m(\u001b[0m\u001b[0mdrone\u001b[0m\u001b[0;34m.\u001b[0m\u001b[0mnavdata\u001b[0m\u001b[0;34m[\u001b[0m\u001b[0;36m0\u001b[0m\u001b[0;34m]\u001b[0m\u001b[0;34m[\u001b[0m\u001b[0;34m'psi'\u001b[0m\u001b[0;34m]\u001b[0m\u001b[0;34m-\u001b[0m\u001b[0mpsi0\u001b[0m\u001b[0;34m,\u001b[0m\u001b[0mdrone\u001b[0m\u001b[0;34m.\u001b[0m\u001b[0mnavdata\u001b[0m\u001b[0;34m[\u001b[0m\u001b[0;36m0\u001b[0m\u001b[0;34m]\u001b[0m\u001b[0;34m[\u001b[0m\u001b[0;34m'psi'\u001b[0m\u001b[0;34m]\u001b[0m\u001b[0;34m,\u001b[0m\u001b[0mpsi0\u001b[0m\u001b[0;34m,\u001b[0m\u001b[0mtime\u001b[0m\u001b[0;34m.\u001b[0m\u001b[0mclock\u001b[0m\u001b[0;34m(\u001b[0m\u001b[0;34m)\u001b[0m\u001b[0;34m)\u001b[0m\u001b[0;34m\u001b[0m\u001b[0m\n\u001b[1;32m      7\u001b[0m     \u001b[0mtime\u001b[0m\u001b[0;34m.\u001b[0m\u001b[0msleep\u001b[0m\u001b[0;34m(\u001b[0m\u001b[0;36m0.1\u001b[0m\u001b[0;34m)\u001b[0m\u001b[0;34m\u001b[0m\u001b[0m\n",
      "\u001b[0;31mKeyboardInterrupt\u001b[0m: "
     ]
    }
   ],
   "source": [
    "telem = HTML()\n",
    "display(telem)\n",
    "psi0 = drone.navdata[0]['psi']\n",
    "while True:\n",
    "    time.sleep(0.1)\n",
    "    telem.value = '<pre> |psi-psi0| = {0} psi = {1} psi0 = {2} clock: {3}</pre>'.format(drone.navdata[0]['psi']-psi0,drone.navdata[0]['psi'],psi0,time.clock())\n",
    "    time.sleep(0.1)"
   ]
  },
  {
   "cell_type": "code",
   "execution_count": null,
   "metadata": {
    "collapsed": true
   },
   "outputs": [],
   "source": []
  }
 ],
 "metadata": {
  "kernelspec": {
   "display_name": "Python 2",
   "language": "python",
   "name": "python2"
  },
  "language_info": {
   "codemirror_mode": {
    "name": "ipython",
    "version": 2
   },
   "file_extension": ".py",
   "mimetype": "text/x-python",
   "name": "python",
   "nbconvert_exporter": "python",
   "pygments_lexer": "ipython2",
   "version": "2.7.7"
  }
 },
 "nbformat": 4,
 "nbformat_minor": 0
}
